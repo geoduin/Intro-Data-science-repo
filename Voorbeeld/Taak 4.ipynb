{
 "cells": [
  {
   "cell_type": "code",
   "execution_count": 23,
   "id": "9e0a852e",
   "metadata": {},
   "outputs": [],
   "source": [
    "import pandas as pd"
   ]
  },
  {
   "cell_type": "code",
   "execution_count": 26,
   "id": "d483ec06",
   "metadata": {},
   "outputs": [
    {
     "ename": "SyntaxError",
     "evalue": "expression cannot contain assignment, perhaps you meant \"==\"? (1268056868.py, line 1)",
     "output_type": "error",
     "traceback": [
      "\u001b[1;36m  File \u001b[1;32m\"C:\\Users\\Xin20\\AppData\\Local\\Temp\\ipykernel_69644\\1268056868.py\"\u001b[1;36m, line \u001b[1;32m1\u001b[0m\n\u001b[1;33m    data = pd.read_csv('transfers.csv'. sep=';')\u001b[0m\n\u001b[1;37m                       ^\u001b[0m\n\u001b[1;31mSyntaxError\u001b[0m\u001b[1;31m:\u001b[0m expression cannot contain assignment, perhaps you meant \"==\"?\n"
     ]
    }
   ],
   "source": [
    "data = pd.read_csv('transfers.csv'. sep=';')"
   ]
  },
  {
   "cell_type": "code",
   "execution_count": 25,
   "id": "fa902ba5",
   "metadata": {},
   "outputs": [
    {
     "data": {
      "text/html": [
       "<div>\n",
       "<style scoped>\n",
       "    .dataframe tbody tr th:only-of-type {\n",
       "        vertical-align: middle;\n",
       "    }\n",
       "\n",
       "    .dataframe tbody tr th {\n",
       "        vertical-align: top;\n",
       "    }\n",
       "\n",
       "    .dataframe thead th {\n",
       "        text-align: right;\n",
       "    }\n",
       "</style>\n",
       "<table border=\"1\" class=\"dataframe\">\n",
       "  <thead>\n",
       "    <tr style=\"text-align: right;\">\n",
       "      <th></th>\n",
       "      <th>id;player_id;player_name;season;date;from_club_id;from_club_name;to_club_id;to_club_name;market_value;fee;from_coach_name;to_coach_name;from_sport_dir_name;to_sport_dir_name;contract_was_till;is_loan;is_end_of_loan;is_future_transfer</th>\n",
       "    </tr>\n",
       "  </thead>\n",
       "  <tbody>\n",
       "    <tr>\n",
       "      <th>0</th>\n",
       "      <td>1;1;Jermaine Beckford;2017;2017-07-01;391;Pres...</td>\n",
       "    </tr>\n",
       "    <tr>\n",
       "      <th>1</th>\n",
       "      <td>2;1;Jermaine Beckford;2015;2015-07-01;289;Bolt...</td>\n",
       "    </tr>\n",
       "    <tr>\n",
       "      <th>2</th>\n",
       "      <td>3;1;Jermaine Beckford;2014;2015-06-30;391;Pres...</td>\n",
       "    </tr>\n",
       "    <tr>\n",
       "      <th>3</th>\n",
       "      <td>4;1;Jermaine Beckford;2014;2014-11-20;289;Bolt...</td>\n",
       "    </tr>\n",
       "    <tr>\n",
       "      <th>4</th>\n",
       "      <td>5;1;Jermaine Beckford;2013;2013-07-17;271;Leic...</td>\n",
       "    </tr>\n",
       "    <tr>\n",
       "      <th>...</th>\n",
       "      <td>...</td>\n",
       "    </tr>\n",
       "    <tr>\n",
       "      <th>111597</th>\n",
       "      <td>111598;11381;Andreas Neuendorf;1994;1994-07-01...</td>\n",
       "    </tr>\n",
       "    <tr>\n",
       "      <th>111598</th>\n",
       "      <td>111599;11381;Andreas Neuendorf;1993;1993-07-01...</td>\n",
       "    </tr>\n",
       "    <tr>\n",
       "      <th>111599</th>\n",
       "      <td>111600;11382;Michael Obafemi;2018;2019-01-01;7...</td>\n",
       "    </tr>\n",
       "    <tr>\n",
       "      <th>111600</th>\n",
       "      <td>111601;11382;Michael Obafemi;2018;2018-07-01;7...</td>\n",
       "    </tr>\n",
       "    <tr>\n",
       "      <th>111601</th>\n",
       "      <td>111602;11382;Michael Obafemi;2016;2016-07-01;9...</td>\n",
       "    </tr>\n",
       "  </tbody>\n",
       "</table>\n",
       "<p>111602 rows × 1 columns</p>\n",
       "</div>"
      ],
      "text/plain": [
       "       id;player_id;player_name;season;date;from_club_id;from_club_name;to_club_id;to_club_name;market_value;fee;from_coach_name;to_coach_name;from_sport_dir_name;to_sport_dir_name;contract_was_till;is_loan;is_end_of_loan;is_future_transfer\n",
       "0       1;1;Jermaine Beckford;2017;2017-07-01;391;Pres...                                                                                                                                                                                       \n",
       "1       2;1;Jermaine Beckford;2015;2015-07-01;289;Bolt...                                                                                                                                                                                       \n",
       "2       3;1;Jermaine Beckford;2014;2015-06-30;391;Pres...                                                                                                                                                                                       \n",
       "3       4;1;Jermaine Beckford;2014;2014-11-20;289;Bolt...                                                                                                                                                                                       \n",
       "4       5;1;Jermaine Beckford;2013;2013-07-17;271;Leic...                                                                                                                                                                                       \n",
       "...                                                   ...                                                                                                                                                                                       \n",
       "111597  111598;11381;Andreas Neuendorf;1994;1994-07-01...                                                                                                                                                                                       \n",
       "111598  111599;11381;Andreas Neuendorf;1993;1993-07-01...                                                                                                                                                                                       \n",
       "111599  111600;11382;Michael Obafemi;2018;2019-01-01;7...                                                                                                                                                                                       \n",
       "111600  111601;11382;Michael Obafemi;2018;2018-07-01;7...                                                                                                                                                                                       \n",
       "111601  111602;11382;Michael Obafemi;2016;2016-07-01;9...                                                                                                                                                                                       \n",
       "\n",
       "[111602 rows x 1 columns]"
      ]
     },
     "execution_count": 25,
     "metadata": {},
     "output_type": "execute_result"
    }
   ],
   "source": [
    "data"
   ]
  },
  {
   "cell_type": "code",
   "execution_count": null,
   "id": "e474893b",
   "metadata": {},
   "outputs": [],
   "source": []
  }
 ],
 "metadata": {
  "kernelspec": {
   "display_name": "Python 3 (ipykernel)",
   "language": "python",
   "name": "python3"
  },
  "language_info": {
   "codemirror_mode": {
    "name": "ipython",
    "version": 3
   },
   "file_extension": ".py",
   "mimetype": "text/x-python",
   "name": "python",
   "nbconvert_exporter": "python",
   "pygments_lexer": "ipython3",
   "version": "3.9.13"
  }
 },
 "nbformat": 4,
 "nbformat_minor": 5
}
