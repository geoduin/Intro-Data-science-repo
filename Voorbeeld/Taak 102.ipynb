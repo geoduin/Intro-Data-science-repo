{
 "cells": [
  {
   "cell_type": "markdown",
   "id": "32b14fcf",
   "metadata": {},
   "source": [
    "# De taken en proces van een data scientist"
   ]
  },
  {
   "cell_type": "markdown",
   "id": "7922edfd",
   "metadata": {},
   "source": [
    "<figure>\n",
    "    <img src=\"https://docs.microsoft.com/en-us/azure/machine-learning/team-data-science-process/media/overview/tdsp-lifecycle2.png\" width=\"750\"/>\n",
    "    <figcaption>Figuur 1. Afbeelding data science lifecycle</figcaption>\n",
    "</figure>"
   ]
  },
  {
   "cell_type": "markdown",
   "id": "787c9bd7",
   "metadata": {},
   "source": [
    "Uit onze overige 19 data-science opdrachten, kunnen we er zeker van zijn dat de taken van een data scientist het analyzeren van de ruwe data, het leggen van verbanden tussen 2 of meerdere kolommen en het maken van voorspellingen met behulp van Machine learning en bestaande data.\n",
    "Wat er voorspelt of geanalyzeerd moet worden, is afhankelijk van wat de behoeften van de organisatie zijn. Als deze behoeften bekend zijn, maken we gebruik van verschillende databronnen om ermee te werken. Dit kunnen databases zijn, maar ook excel sheets of data lakes zijn.\n",
    "\n",
    "In dit geval heb ik in de opdrachten de voetbaldataset gebruikt voor het beantwoorden van de vragen. Dat is een dataset over voetbalstatistieken van iedere speler in de top 10 competities in de wereld tussen 2016 en 2020.\n",
    "Ons doel is om de spelers die veel en constant doelpunten te halen naar onze club.\n",
    "Hiervoor importeren we data in onze jupyter notebook scripts om gebruik te maken van de dataset.\n",
    "\n",
    "Volgens de data science lifecycle zal op basis van de bedrijfscasus, moeten begrijpen wat voor soort data we te maken krijgen. Hoe de data in elkaar zit. Hiervoor passen we een univeriate toe. \n",
    "In taak 7 en 8, heb ik een univariate analyse uitgevoerd op de kolommen Goals, xG en Shots Per Avg Match. Hiervoor hebben we van de drie kolommen de mean, minimum, maximum, gemiddelde, mediaan waarden en standafwijking berekend. Voor Goals en Shots Per Avg Match hebben we de standaarddistributie gevisualiseerd om te kijken hoe de nummerische waarden zijn verdeeld.\n",
    "In de geval dat er ontbrekende kolommen aanwezig zijn, heb ik ze weggelaten of een default waarden toegekend.\n",
    "Daarnaast werden ook boxplotten gebruikt om de distributie te zien.\n",
    "In taak 8 werd de standaardafwijking op 95, 99 en 99,99 procent confidence intervallen berekent. Om te controleren hoe groot de standaardafwijking is.\n",
    "\n",
    "Om twee kolommen te analyzeren, maken we gebruik van een bivariate analyse. Het doel is om verbanden te leggen tussen twee kolommen. Voor taak 10, 12 en 14 hebben een bivariate analyses proces toegepast.\n",
    "In taak 10 hebben we tussen twee nummerische kolommen - in dit geval OnTarget en Goals - gebruikt om de pearson correlation te weergeven en dat te laten zien in een scatter plot. Uit dit resultaat bleek dat er een sterk verband was tussen de twee kolommen. Als de pearson correlatie waarde dichterbij 1 of -1 is, dan is het verband groot.\n",
    "In taak 12 werden de cobinaties: Country and Goals, League and Goals, League and xG gebruikt voor een bivariate analyse op 1 catagorische en 1 nummerische kolom.\n",
    "Bij iedere combinatie hebben we de mean waarde per groepeerde catagorische waarde berekend. In dit geval hebben we de mean waarde van de Goals en xG per Land en Competitie berekend. Vervolgens berekenen we de confidence intervallen te visualiseren. Als de confidence intervallen met elkaar overlappen, dan kunnen we nog niet zeker weten of er een verband is.\n",
    "\n",
    "Bij taak 13 analyseren we twee catagorische kolommen. Tussen Species en Sex bijvoorbeeld. Hiervan zetten we de gegevens in een contigency tabel om de kijken of de verdeling tussen de mannetjes en vrouwtjes penguins (on)gelijk zijn verdeeld over species. Dat bleek gelijk te zijn over iedere species en kunnen we niet zien of er een verband is. Om dit te valideren, maken we gebruik van de Chi-square formule. De formule bevestigt de aanname dat er maar 2,8% verband is tussen de twee kolommen we kunnen dus concluderen dat er geen verband is tussen de kolommen.\n",
    "\n",
    "Nadat we de kolommen met elkaar hebben vergeleken, zal een data scientist een model moeten maken die bruikbaar is voor de organisatie. Multivariate analyses is de manier op dat te doen. \n",
    "In dit geval maken we een voorspellingsmodel met behulp van machine learning algorithmes zoals decision trees en regressie algorithmes.\n",
    "Zoals in taak 16. Voor het voorspellen van catagorische data, maken we gebruik van classification. Om de Goal Rating te trainen met classification, maken we gebruik van een decision tree. Aan de hand van de kolommen die gebruikt worden om voorspellingen te doen, splitst de dataset constant in tweeen om het model te leren. In dit geval zal het model in taak 15 de Goal Rating moeten voorspellen aan de hand van de feature kolommen: Matches_Played, Shots Per Avg Match, On Target Per Avg Match en Mins.\n",
    "Om te controleren wat de nauwkeurigheid van het model is, maken we gebruik van testdata om te kijken of iedere model correct voorspelt worden.\n",
    "Voor het voorspellen nummerische waarden zoals Goals, trainen we ons model met behulp van de regressie. Zoals in taak 18. Hierbij gebruiken we een decision tree algorithme om dit model te trainen. De kolommen gebruikt zijn: Matches_Played, Shots Per Avg Match, On Target Per Avg Match en Mins.\n"
   ]
  },
  {
   "cell_type": "code",
   "execution_count": null,
   "id": "b9394817",
   "metadata": {},
   "outputs": [],
   "source": []
  }
 ],
 "metadata": {
  "kernelspec": {
   "display_name": "Python 3 (ipykernel)",
   "language": "python",
   "name": "python3"
  },
  "language_info": {
   "codemirror_mode": {
    "name": "ipython",
    "version": 3
   },
   "file_extension": ".py",
   "mimetype": "text/x-python",
   "name": "python",
   "nbconvert_exporter": "python",
   "pygments_lexer": "ipython3",
   "version": "3.9.13"
  }
 },
 "nbformat": 4,
 "nbformat_minor": 5
}
