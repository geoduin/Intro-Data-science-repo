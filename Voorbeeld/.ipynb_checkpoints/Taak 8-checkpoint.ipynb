{
 "cells": [
  {
   "cell_type": "code",
   "execution_count": null,
   "id": "11b5efe8",
   "metadata": {},
   "outputs": [],
   "source": [
    "#Portfolio assignment 8¶\n",
    "#15 min:\n",
    "\n",
    "# Calculate the 90%, 95%, 99% and 99.99% confidence interval \n",
    "# for at least 2 columns with numerical data in the dataset that you chose in portfolio assignment 4.\n",
    "\n",
    "# Do you see the impact the confidence has on the interval?\n",
    "\n",
    "# Now calculate the 95% confidence interval again but use only the first 10% of your rows. \n",
    "\n",
    "# Compare this interval to the previous 95% confidence interval you calculated.\n",
    "\n",
    "# Do you see the impact of having less data?"
   ]
  },
  {
   "cell_type": "code",
   "execution_count": 1,
   "id": "ed43fcb9",
   "metadata": {},
   "outputs": [],
   "source": [
    "import pandas as pd\n",
    "import numpy as np"
   ]
  },
  {
   "cell_type": "code",
   "execution_count": 2,
   "id": "82b012b6",
   "metadata": {},
   "outputs": [],
   "source": [
    "data = pd.read_csv('Data.csv')"
   ]
  },
  {
   "cell_type": "code",
   "execution_count": 18,
   "id": "87260cb5",
   "metadata": {},
   "outputs": [
    {
     "data": {
      "text/html": [
       "<div>\n",
       "<style scoped>\n",
       "    .dataframe tbody tr th:only-of-type {\n",
       "        vertical-align: middle;\n",
       "    }\n",
       "\n",
       "    .dataframe tbody tr th {\n",
       "        vertical-align: top;\n",
       "    }\n",
       "\n",
       "    .dataframe thead th {\n",
       "        text-align: right;\n",
       "    }\n",
       "</style>\n",
       "<table border=\"1\" class=\"dataframe\">\n",
       "  <thead>\n",
       "    <tr style=\"text-align: right;\">\n",
       "      <th></th>\n",
       "      <th>Country</th>\n",
       "      <th>League</th>\n",
       "      <th>Club</th>\n",
       "      <th>Player Names</th>\n",
       "      <th>Matches_Played</th>\n",
       "      <th>Substitution</th>\n",
       "      <th>Mins</th>\n",
       "      <th>Goals</th>\n",
       "      <th>xG</th>\n",
       "      <th>xG Per Avg Match</th>\n",
       "      <th>Shots</th>\n",
       "      <th>OnTarget</th>\n",
       "      <th>Shots Per Avg Match</th>\n",
       "      <th>On Target Per Avg Match</th>\n",
       "      <th>Year</th>\n",
       "    </tr>\n",
       "  </thead>\n",
       "  <tbody>\n",
       "    <tr>\n",
       "      <th>0</th>\n",
       "      <td>Spain</td>\n",
       "      <td>La Liga</td>\n",
       "      <td>(BET)</td>\n",
       "      <td>Juanmi Callejon</td>\n",
       "      <td>19</td>\n",
       "      <td>16</td>\n",
       "      <td>1849</td>\n",
       "      <td>11</td>\n",
       "      <td>6.62</td>\n",
       "      <td>0.34</td>\n",
       "      <td>48</td>\n",
       "      <td>20</td>\n",
       "      <td>2.47</td>\n",
       "      <td>1.03</td>\n",
       "      <td>2016</td>\n",
       "    </tr>\n",
       "    <tr>\n",
       "      <th>1</th>\n",
       "      <td>Spain</td>\n",
       "      <td>La Liga</td>\n",
       "      <td>(BAR)</td>\n",
       "      <td>Antoine Griezmann</td>\n",
       "      <td>36</td>\n",
       "      <td>0</td>\n",
       "      <td>3129</td>\n",
       "      <td>16</td>\n",
       "      <td>11.86</td>\n",
       "      <td>0.36</td>\n",
       "      <td>88</td>\n",
       "      <td>41</td>\n",
       "      <td>2.67</td>\n",
       "      <td>1.24</td>\n",
       "      <td>2016</td>\n",
       "    </tr>\n",
       "    <tr>\n",
       "      <th>2</th>\n",
       "      <td>Spain</td>\n",
       "      <td>La Liga</td>\n",
       "      <td>(ATL)</td>\n",
       "      <td>Luis Suarez</td>\n",
       "      <td>34</td>\n",
       "      <td>1</td>\n",
       "      <td>2940</td>\n",
       "      <td>28</td>\n",
       "      <td>23.21</td>\n",
       "      <td>0.75</td>\n",
       "      <td>120</td>\n",
       "      <td>57</td>\n",
       "      <td>3.88</td>\n",
       "      <td>1.84</td>\n",
       "      <td>2016</td>\n",
       "    </tr>\n",
       "    <tr>\n",
       "      <th>3</th>\n",
       "      <td>Spain</td>\n",
       "      <td>La Liga</td>\n",
       "      <td>(CAR)</td>\n",
       "      <td>Ruben Castro</td>\n",
       "      <td>32</td>\n",
       "      <td>3</td>\n",
       "      <td>2842</td>\n",
       "      <td>13</td>\n",
       "      <td>14.06</td>\n",
       "      <td>0.47</td>\n",
       "      <td>117</td>\n",
       "      <td>42</td>\n",
       "      <td>3.91</td>\n",
       "      <td>1.40</td>\n",
       "      <td>2016</td>\n",
       "    </tr>\n",
       "    <tr>\n",
       "      <th>4</th>\n",
       "      <td>Spain</td>\n",
       "      <td>La Liga</td>\n",
       "      <td>(VAL)</td>\n",
       "      <td>Kevin Gameiro</td>\n",
       "      <td>21</td>\n",
       "      <td>10</td>\n",
       "      <td>1745</td>\n",
       "      <td>13</td>\n",
       "      <td>10.65</td>\n",
       "      <td>0.58</td>\n",
       "      <td>50</td>\n",
       "      <td>23</td>\n",
       "      <td>2.72</td>\n",
       "      <td>1.25</td>\n",
       "      <td>2016</td>\n",
       "    </tr>\n",
       "    <tr>\n",
       "      <th>...</th>\n",
       "      <td>...</td>\n",
       "      <td>...</td>\n",
       "      <td>...</td>\n",
       "      <td>...</td>\n",
       "      <td>...</td>\n",
       "      <td>...</td>\n",
       "      <td>...</td>\n",
       "      <td>...</td>\n",
       "      <td>...</td>\n",
       "      <td>...</td>\n",
       "      <td>...</td>\n",
       "      <td>...</td>\n",
       "      <td>...</td>\n",
       "      <td>...</td>\n",
       "      <td>...</td>\n",
       "    </tr>\n",
       "    <tr>\n",
       "      <th>655</th>\n",
       "      <td>Netherlands</td>\n",
       "      <td>Eredivisie</td>\n",
       "      <td>(UTR)</td>\n",
       "      <td>Gyrano Kerk</td>\n",
       "      <td>24</td>\n",
       "      <td>0</td>\n",
       "      <td>2155</td>\n",
       "      <td>10</td>\n",
       "      <td>7.49</td>\n",
       "      <td>0.33</td>\n",
       "      <td>50</td>\n",
       "      <td>18</td>\n",
       "      <td>2.20</td>\n",
       "      <td>0.79</td>\n",
       "      <td>2020</td>\n",
       "    </tr>\n",
       "    <tr>\n",
       "      <th>656</th>\n",
       "      <td>Netherlands</td>\n",
       "      <td>Eredivisie</td>\n",
       "      <td>(AJA)</td>\n",
       "      <td>Quincy Promes</td>\n",
       "      <td>18</td>\n",
       "      <td>2</td>\n",
       "      <td>1573</td>\n",
       "      <td>12</td>\n",
       "      <td>9.77</td>\n",
       "      <td>0.59</td>\n",
       "      <td>56</td>\n",
       "      <td>30</td>\n",
       "      <td>3.38</td>\n",
       "      <td>1.81</td>\n",
       "      <td>2020</td>\n",
       "    </tr>\n",
       "    <tr>\n",
       "      <th>657</th>\n",
       "      <td>Netherlands</td>\n",
       "      <td>Eredivisie</td>\n",
       "      <td>(PSV)</td>\n",
       "      <td>Denzel Dumfries</td>\n",
       "      <td>25</td>\n",
       "      <td>0</td>\n",
       "      <td>2363</td>\n",
       "      <td>7</td>\n",
       "      <td>5.72</td>\n",
       "      <td>0.23</td>\n",
       "      <td>45</td>\n",
       "      <td>14</td>\n",
       "      <td>1.81</td>\n",
       "      <td>0.56</td>\n",
       "      <td>2020</td>\n",
       "    </tr>\n",
       "    <tr>\n",
       "      <th>658</th>\n",
       "      <td>Netherlands</td>\n",
       "      <td>Eredivisie</td>\n",
       "      <td>None</td>\n",
       "      <td>Cyriel Dessers</td>\n",
       "      <td>26</td>\n",
       "      <td>0</td>\n",
       "      <td>2461</td>\n",
       "      <td>15</td>\n",
       "      <td>14.51</td>\n",
       "      <td>0.56</td>\n",
       "      <td>84</td>\n",
       "      <td>43</td>\n",
       "      <td>3.24</td>\n",
       "      <td>1.66</td>\n",
       "      <td>2020</td>\n",
       "    </tr>\n",
       "    <tr>\n",
       "      <th>659</th>\n",
       "      <td>Netherlands</td>\n",
       "      <td>Eredivisie</td>\n",
       "      <td>(PSV)</td>\n",
       "      <td>Cody Gakpo</td>\n",
       "      <td>14</td>\n",
       "      <td>11</td>\n",
       "      <td>1557</td>\n",
       "      <td>7</td>\n",
       "      <td>4.43</td>\n",
       "      <td>0.27</td>\n",
       "      <td>38</td>\n",
       "      <td>15</td>\n",
       "      <td>2.32</td>\n",
       "      <td>0.92</td>\n",
       "      <td>2020</td>\n",
       "    </tr>\n",
       "  </tbody>\n",
       "</table>\n",
       "<p>660 rows × 15 columns</p>\n",
       "</div>"
      ],
      "text/plain": [
       "          Country      League   Club       Player Names  Matches_Played  \\\n",
       "0           Spain     La Liga  (BET)    Juanmi Callejon              19   \n",
       "1           Spain     La Liga  (BAR)  Antoine Griezmann              36   \n",
       "2           Spain     La Liga  (ATL)        Luis Suarez              34   \n",
       "3           Spain     La Liga  (CAR)       Ruben Castro              32   \n",
       "4           Spain     La Liga  (VAL)      Kevin Gameiro              21   \n",
       "..            ...         ...    ...                ...             ...   \n",
       "655   Netherlands  Eredivisie  (UTR)        Gyrano Kerk              24   \n",
       "656   Netherlands  Eredivisie  (AJA)      Quincy Promes              18   \n",
       "657   Netherlands  Eredivisie  (PSV)    Denzel Dumfries              25   \n",
       "658   Netherlands  Eredivisie   None    Cyriel Dessers               26   \n",
       "659   Netherlands  Eredivisie  (PSV)         Cody Gakpo              14   \n",
       "\n",
       "     Substitution   Mins  Goals     xG  xG Per Avg Match  Shots  OnTarget  \\\n",
       "0               16  1849     11   6.62              0.34     48        20   \n",
       "1                0  3129     16  11.86              0.36     88        41   \n",
       "2                1  2940     28  23.21              0.75    120        57   \n",
       "3                3  2842     13  14.06              0.47    117        42   \n",
       "4               10  1745     13  10.65              0.58     50        23   \n",
       "..             ...   ...    ...    ...               ...    ...       ...   \n",
       "655              0  2155     10   7.49              0.33     50        18   \n",
       "656              2  1573     12   9.77              0.59     56        30   \n",
       "657              0  2363      7   5.72              0.23     45        14   \n",
       "658              0  2461     15  14.51              0.56     84        43   \n",
       "659             11  1557      7   4.43              0.27     38        15   \n",
       "\n",
       "     Shots Per Avg Match  On Target Per Avg Match  Year  \n",
       "0                   2.47                     1.03  2016  \n",
       "1                   2.67                     1.24  2016  \n",
       "2                   3.88                     1.84  2016  \n",
       "3                   3.91                     1.40  2016  \n",
       "4                   2.72                     1.25  2016  \n",
       "..                   ...                      ...   ...  \n",
       "655                 2.20                     0.79  2020  \n",
       "656                 3.38                     1.81  2020  \n",
       "657                 1.81                     0.56  2020  \n",
       "658                 3.24                     1.66  2020  \n",
       "659                 2.32                     0.92  2020  \n",
       "\n",
       "[660 rows x 15 columns]"
      ]
     },
     "execution_count": 18,
     "metadata": {},
     "output_type": "execute_result"
    }
   ],
   "source": [
    "data"
   ]
  },
  {
   "cell_type": "code",
   "execution_count": null,
   "id": "92c0d73b",
   "metadata": {},
   "outputs": [],
   "source": [
    "# Calculate the 90%, 95%, 99% and 99.99% confidence interval \n",
    "# for at least 2 columns with numerical data in the dataset that you chose in portfolio assignment 4."
   ]
  },
  {
   "cell_type": "code",
   "execution_count": 4,
   "id": "4323a15d",
   "metadata": {},
   "outputs": [],
   "source": [
    "#Import stat library\n",
    "import scipy.stats as st\n"
   ]
  },
  {
   "cell_type": "code",
   "execution_count": 5,
   "id": "ef7c6a1d",
   "metadata": {},
   "outputs": [],
   "source": [
    "# Intervals\n",
    "Nineteenth = 0.9\n",
    "NinethyFive = 0.95\n",
    "NinethyNine = 0.99\n",
    "NinethyNineTeen = 0.9999"
   ]
  },
  {
   "cell_type": "code",
   "execution_count": null,
   "id": "825c603e",
   "metadata": {},
   "outputs": [],
   "source": [
    "# Goals"
   ]
  },
  {
   "cell_type": "code",
   "execution_count": 7,
   "id": "c5b6c0bd",
   "metadata": {},
   "outputs": [
    {
     "data": {
      "text/plain": [
       "(11.401277636693269, 12.168419333003701)"
      ]
     },
     "execution_count": 7,
     "metadata": {},
     "output_type": "execute_result"
    }
   ],
   "source": [
    "# 90 PERCENT Confidence interval goals\n",
    "st.t.interval(Nineteenth, len(data)-1, loc=data[\"Goals\"].mean(), scale=st.sem(data['Goals']))"
   ]
  },
  {
   "cell_type": "code",
   "execution_count": 8,
   "id": "3041cbad",
   "metadata": {},
   "outputs": [
    {
     "data": {
      "text/plain": [
       "(11.327598343556916, 12.242098626140054)"
      ]
     },
     "execution_count": 8,
     "metadata": {},
     "output_type": "execute_result"
    }
   ],
   "source": [
    "# 95 PERCENT Confidence interval goals\n",
    "st.t.interval(NinethyFive, len(data)-1, loc=data[\"Goals\"].mean(), scale=st.sem(data['Goals']))"
   ]
  },
  {
   "cell_type": "code",
   "execution_count": 14,
   "id": "3a6e032f",
   "metadata": {},
   "outputs": [
    {
     "data": {
      "text/plain": [
       "(11.183281530543383, 12.386415439153588)"
      ]
     },
     "execution_count": 14,
     "metadata": {},
     "output_type": "execute_result"
    }
   ],
   "source": [
    "# 99 PERCENT Confidence interval goals\n",
    "st.t.interval(NinethyNine, len(data)-1, loc=data[\"Goals\"].mean(), scale=st.sem(data['Goals']))"
   ]
  },
  {
   "cell_type": "code",
   "execution_count": 16,
   "id": "c5e54300",
   "metadata": {},
   "outputs": [
    {
     "data": {
      "text/plain": [
       "(10.873282670402585, 12.696414299294386)"
      ]
     },
     "execution_count": 16,
     "metadata": {},
     "output_type": "execute_result"
    }
   ],
   "source": [
    "# 99.99 PERCENT Confidence interval goals\n",
    "st.t.interval(NinethyNineTeen, len(data)-1, loc=data[\"Goals\"].mean(), scale=st.sem(data['Goals']))"
   ]
  },
  {
   "cell_type": "code",
   "execution_count": null,
   "id": "c4e05c59",
   "metadata": {},
   "outputs": [],
   "source": [
    "# Do you see the impact the confidence has on the interval?\n",
    "# Wat ik opmerk is dat de naarmate de betrouwbaarheidsinterval omhoog gaat van 90 procent naar 99.99 procent\n",
    "# de eerste waarde redelijk lager wordt en de tweede waarde redelijk omhoog."
   ]
  },
  {
   "cell_type": "code",
   "execution_count": null,
   "id": "5d145f19",
   "metadata": {},
   "outputs": [],
   "source": [
    "# Average shots taken per match"
   ]
  },
  {
   "cell_type": "code",
   "execution_count": 11,
   "id": "161d85c1",
   "metadata": {},
   "outputs": [
    {
     "data": {
      "text/plain": [
       "(2.8893550331698066, 3.006675269860497)"
      ]
     },
     "execution_count": 11,
     "metadata": {},
     "output_type": "execute_result"
    }
   ],
   "source": [
    "# 90 PERCENT Confidence interval average shots per game\n",
    "st.t.interval(Nineteenth, len(data)-1, loc=data[\"Shots Per Avg Match\"].mean(), scale=st.sem(data['Shots Per Avg Match']))"
   ]
  },
  {
   "cell_type": "code",
   "execution_count": 13,
   "id": "6bf449bd",
   "metadata": {},
   "outputs": [
    {
     "data": {
      "text/plain": [
       "(2.87808713813616, 3.0179431648941435)"
      ]
     },
     "execution_count": 13,
     "metadata": {},
     "output_type": "execute_result"
    }
   ],
   "source": [
    "# 95 PERCENT Confidence interval average shots per game\n",
    "st.t.interval(NinethyFive, len(data)-1, loc=data[\"Shots Per Avg Match\"].mean(), scale=st.sem(data['Shots Per Avg Match']))"
   ]
  },
  {
   "cell_type": "code",
   "execution_count": 15,
   "id": "cce257ed",
   "metadata": {},
   "outputs": [
    {
     "data": {
      "text/plain": [
       "(2.856016531437782, 3.0400137715925215)"
      ]
     },
     "execution_count": 15,
     "metadata": {},
     "output_type": "execute_result"
    }
   ],
   "source": [
    "# 99 PERCENT Confidence interval average shots per game\n",
    "st.t.interval(NinethyNine, len(data)-1, loc=data[\"Shots Per Avg Match\"].mean(), scale=st.sem(data['Shots Per Avg Match']))"
   ]
  },
  {
   "cell_type": "code",
   "execution_count": 17,
   "id": "9d469409",
   "metadata": {},
   "outputs": [
    {
     "data": {
      "text/plain": [
       "(2.808607897777951, 3.0874224052523527)"
      ]
     },
     "execution_count": 17,
     "metadata": {},
     "output_type": "execute_result"
    }
   ],
   "source": [
    "# 99.99 PERCENT Confidence interval average shots per game\n",
    "st.t.interval(NinethyNineTeen, len(data)-1, loc=data[\"Shots Per Avg Match\"].mean(), scale=st.sem(data['Shots Per Avg Match']))"
   ]
  },
  {
   "cell_type": "code",
   "execution_count": null,
   "id": "3b328688",
   "metadata": {},
   "outputs": [],
   "source": [
    "# Do you see the impact the confidence has on the interval?\n",
    "# Wat ik opmerk is dat de naarmate de betrouwbaarheidsinterval omhoog gaat van 90 procent naar 99.99 procent\n",
    "# de eerste waarde redelijk lager wordt en de tweede waarde redelijk omhoog."
   ]
  },
  {
   "cell_type": "code",
   "execution_count": null,
   "id": "bba232a0",
   "metadata": {},
   "outputs": [],
   "source": [
    "# Now calculate the 95% confidence interval again but use only the first 10% of your rows. \n",
    "\n",
    "# Compare this interval to the previous 95% confidence interval you calculated.\n",
    "\n",
    "# Do you see the impact of having less data?"
   ]
  },
  {
   "cell_type": "code",
   "execution_count": 43,
   "id": "f346060f",
   "metadata": {},
   "outputs": [
    {
     "name": "stdout",
     "output_type": "stream",
     "text": [
      "660\n",
      "66\n"
     ]
    }
   ],
   "source": [
    "#Length of dataset\n",
    "length = len(data)\n",
    "print(length);\n",
    "\n",
    "#Get 10 percent of length\n",
    "tenPercent = int(length * 0.1)\n",
    "\n",
    "print(tenPercent);\n",
    "\n",
    "# Collect first 10 percent of data\n",
    "\n",
    "FirstTenPercent = data.iloc[:tenPercent]"
   ]
  },
  {
   "cell_type": "code",
   "execution_count": 44,
   "id": "3b5bcad0",
   "metadata": {},
   "outputs": [
    {
     "data": {
      "text/plain": [
       "(14.398954696364274, 17.72225742484785)"
      ]
     },
     "execution_count": 44,
     "metadata": {},
     "output_type": "execute_result"
    }
   ],
   "source": [
    "# 95 PERCENT Confidence interval average shots per game with only 10 percent of the rows.\n",
    "st.t.interval(NinethyFive, len(FirstTenPercent)-1, loc=FirstTenPercent[\"Goals\"].mean(), scale=st.sem(FirstTenPercent['Goals']))"
   ]
  },
  {
   "cell_type": "code",
   "execution_count": 45,
   "id": "e42eb292",
   "metadata": {},
   "outputs": [
    {
     "data": {
      "text/plain": [
       "(2.9244275941022875, 3.382239072564381)"
      ]
     },
     "execution_count": 45,
     "metadata": {},
     "output_type": "execute_result"
    }
   ],
   "source": [
    "# 95 PERCENT Confidence interval goals with only 10 percent of the rows.\n",
    "st.t.interval(NinethyFive, len(FirstTenPercent)-1, loc=FirstTenPercent[\"Shots Per Avg Match\"].mean(), scale=st.sem(FirstTenPercent['Shots Per Avg Match']))"
   ]
  },
  {
   "cell_type": "code",
   "execution_count": null,
   "id": "385dd7b3",
   "metadata": {},
   "outputs": [],
   "source": [
    "#Goals confidance interval\n",
    "# (11.327598343556916, 12.242098626140054)\n",
    "\n",
    "#Goals Sample confidance interval\n",
    "# (14.398954696364274, 17.72225742484785)\n",
    "\n",
    "# Het verschil tussen de algemene interval goals en de steekproef is vanwege distributie redelijk groot.\n",
    "# De steekproef betrouwbaarheidsinterval zijn redelijk groter dan de algemene betrouwbaarheidsinterval\n",
    "\n",
    "#Shots Per Avg Match confidance interval\n",
    "# (2.87808713813616, 3.0179431648941435)\n",
    "\n",
    "#Shots Per Avg Match Sample confidance interval\n",
    "# (2.9244275941022875, 3.382239072564381)\n",
    "\n",
    "# Do you see the impact of having less data?\n",
    "# Het verschil tussen de algemene interval goals en de steekproef is vanwege distributie redelijk groot.\n",
    "# De steekproef betrouwbaarheidsinterval zijn redelijk groter dan de algemene betrouwbaarheidsinterval\n",
    "\n",
    "# Ik kan concluderen dat de impact van de dataset grootte, een groot impact heeft op de betrouwbaarheidsinterval.\n",
    "# Mede door de distributie van de data.\n",
    "\n",
    "# Er is sprake van een impact in het geval dat er minder data is."
   ]
  }
 ],
 "metadata": {
  "kernelspec": {
   "display_name": "Python 3 (ipykernel)",
   "language": "python",
   "name": "python3"
  },
  "language_info": {
   "codemirror_mode": {
    "name": "ipython",
    "version": 3
   },
   "file_extension": ".py",
   "mimetype": "text/x-python",
   "name": "python",
   "nbconvert_exporter": "python",
   "pygments_lexer": "ipython3",
   "version": "3.9.13"
  }
 },
 "nbformat": 4,
 "nbformat_minor": 5
}
