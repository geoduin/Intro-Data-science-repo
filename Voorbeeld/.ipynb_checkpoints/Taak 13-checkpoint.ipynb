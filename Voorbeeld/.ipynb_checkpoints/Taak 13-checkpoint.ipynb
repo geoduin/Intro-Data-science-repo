{
 "cells": [
  {
   "cell_type": "markdown",
   "id": "69591428",
   "metadata": {},
   "source": [
    "### Portfolio assignment 13\n",
    "10 min: Do a bivariate analysis on the penguins dataset for the following combination of columns:\n",
    "- species VS sex\n",
    "- island VS sex\n",
    "\n",
    "For this bivariate analysis, at least perform the following tasks:\n",
    "- Do you expect their to be a correlation between the two columns?\n",
    "- Create a contingency table. Do you observe different ratios between categories here?\n",
    "- Create a bar plot for this contingency table. Do you observe different ratios between categories here?\n",
    "- Do a chi-squared test. What does the result say? What's the chance of there being a correlation between the two columns?\n",
    "\n",
    "![](https://i.imgur.com/0v1CGNV.png)"
   ]
  },
  {
   "cell_type": "code",
   "execution_count": null,
   "id": "694c6db1",
   "metadata": {},
   "outputs": [],
   "source": [
    "# Setup methods\n",
    "import seaborn as sns\n",
    "import pandas as pd\n",
    "\n",
    "from scipy.stats import chi2_contingency\n",
    "\n",
    "def create_contingency_table(dataset, column1, column2):\n",
    "    return dataset.groupby([column1, column2]).size().unstack(column1, fill_value=0)\n",
    "\n",
    "\n",
    "def check_cat_vs_cat_correlation(dataset, column1, column2):\n",
    "    contingency_table = create_contingency_table(dataset, column1, column2)\n",
    "    chi2 = chi2_contingency(contingency_table)\n",
    "    p_value = chi2[1]\n",
    "    odds_of_correlation = 1 - p_value\n",
    "    print(f\"The odds of a correlation between {column1} and {column2} is {odds_of_correlation * 100}% (Based on a p value of {p_value}).\")\n",
    "    print(\"This percentage needs to be at least 95% for a significant correlation.\")"
   ]
  },
  {
   "cell_type": "code",
   "execution_count": 5,
   "id": "a8c4727d",
   "metadata": {},
   "outputs": [],
   "source": [
    "### Load in penguin dataset\n",
    "penguin = sns.load_dataset(\"penguins\")"
   ]
  },
  {
   "cell_type": "code",
   "execution_count": 6,
   "id": "f39ed007",
   "metadata": {},
   "outputs": [
    {
     "data": {
      "text/html": [
       "<div>\n",
       "<style scoped>\n",
       "    .dataframe tbody tr th:only-of-type {\n",
       "        vertical-align: middle;\n",
       "    }\n",
       "\n",
       "    .dataframe tbody tr th {\n",
       "        vertical-align: top;\n",
       "    }\n",
       "\n",
       "    .dataframe thead th {\n",
       "        text-align: right;\n",
       "    }\n",
       "</style>\n",
       "<table border=\"1\" class=\"dataframe\">\n",
       "  <thead>\n",
       "    <tr style=\"text-align: right;\">\n",
       "      <th></th>\n",
       "      <th>species</th>\n",
       "      <th>island</th>\n",
       "      <th>bill_length_mm</th>\n",
       "      <th>bill_depth_mm</th>\n",
       "      <th>flipper_length_mm</th>\n",
       "      <th>body_mass_g</th>\n",
       "      <th>sex</th>\n",
       "    </tr>\n",
       "  </thead>\n",
       "  <tbody>\n",
       "    <tr>\n",
       "      <th>0</th>\n",
       "      <td>Adelie</td>\n",
       "      <td>Torgersen</td>\n",
       "      <td>39.1</td>\n",
       "      <td>18.7</td>\n",
       "      <td>181.0</td>\n",
       "      <td>3750.0</td>\n",
       "      <td>Male</td>\n",
       "    </tr>\n",
       "    <tr>\n",
       "      <th>1</th>\n",
       "      <td>Adelie</td>\n",
       "      <td>Torgersen</td>\n",
       "      <td>39.5</td>\n",
       "      <td>17.4</td>\n",
       "      <td>186.0</td>\n",
       "      <td>3800.0</td>\n",
       "      <td>Female</td>\n",
       "    </tr>\n",
       "    <tr>\n",
       "      <th>2</th>\n",
       "      <td>Adelie</td>\n",
       "      <td>Torgersen</td>\n",
       "      <td>40.3</td>\n",
       "      <td>18.0</td>\n",
       "      <td>195.0</td>\n",
       "      <td>3250.0</td>\n",
       "      <td>Female</td>\n",
       "    </tr>\n",
       "    <tr>\n",
       "      <th>3</th>\n",
       "      <td>Adelie</td>\n",
       "      <td>Torgersen</td>\n",
       "      <td>NaN</td>\n",
       "      <td>NaN</td>\n",
       "      <td>NaN</td>\n",
       "      <td>NaN</td>\n",
       "      <td>NaN</td>\n",
       "    </tr>\n",
       "    <tr>\n",
       "      <th>4</th>\n",
       "      <td>Adelie</td>\n",
       "      <td>Torgersen</td>\n",
       "      <td>36.7</td>\n",
       "      <td>19.3</td>\n",
       "      <td>193.0</td>\n",
       "      <td>3450.0</td>\n",
       "      <td>Female</td>\n",
       "    </tr>\n",
       "  </tbody>\n",
       "</table>\n",
       "</div>"
      ],
      "text/plain": [
       "  species     island  bill_length_mm  bill_depth_mm  flipper_length_mm  \\\n",
       "0  Adelie  Torgersen            39.1           18.7              181.0   \n",
       "1  Adelie  Torgersen            39.5           17.4              186.0   \n",
       "2  Adelie  Torgersen            40.3           18.0              195.0   \n",
       "3  Adelie  Torgersen             NaN            NaN                NaN   \n",
       "4  Adelie  Torgersen            36.7           19.3              193.0   \n",
       "\n",
       "   body_mass_g     sex  \n",
       "0       3750.0    Male  \n",
       "1       3800.0  Female  \n",
       "2       3250.0  Female  \n",
       "3          NaN     NaN  \n",
       "4       3450.0  Female  "
      ]
     },
     "execution_count": 6,
     "metadata": {},
     "output_type": "execute_result"
    }
   ],
   "source": [
    "penguin.head()"
   ]
  },
  {
   "cell_type": "markdown",
   "id": "31ff81f5",
   "metadata": {},
   "source": [
    "### species vs sex\n",
    "\n",
    "#### hypothese species vs sex\n",
    "Ik denk dat er geen verband is tussen de twee kolommen."
   ]
  },
  {
   "cell_type": "code",
   "execution_count": 28,
   "id": "a88bdb15",
   "metadata": {},
   "outputs": [
    {
     "data": {
      "text/plain": [
       "<AxesSubplot:>"
      ]
     },
     "execution_count": 28,
     "metadata": {},
     "output_type": "execute_result"
    },
    {
     "data": {
      "image/png": "[encoded data removed]",
      "text/plain": [
       "<Figure size 640x480 with 1 Axes>"
      ]
     },
     "metadata": {},
     "output_type": "display_data"
    }
   ],
   "source": [
    "penguin.species.value_counts().plot(kind='bar')"
   ]
  },
  {
   "cell_type": "code",
   "execution_count": 29,
   "id": "fdf86020",
   "metadata": {},
   "outputs": [
    {
     "data": {
      "text/plain": [
       "<AxesSubplot:>"
      ]
     },
     "execution_count": 29,
     "metadata": {},
     "output_type": "execute_result"
    },
    {
     "data": {
      "image/png": "[encoded data removed]",
      "text/plain": [
       "<Figure size 640x480 with 1 Axes>"
      ]
     },
     "metadata": {},
     "output_type": "display_data"
    }
   ],
   "source": [
    "penguin.sex.value_counts().plot(kind='bar')"
   ]
  },
  {
   "cell_type": "markdown",
   "id": "bbf51535",
   "metadata": {},
   "source": [
    "#### Create a contingency table. Do you observe different ratios between categories here?"
   ]
  },
  {
   "cell_type": "code",
   "execution_count": 13,
   "id": "b10ea913",
   "metadata": {},
   "outputs": [
    {
     "name": "stdout",
     "output_type": "stream",
     "text": [
      "species  Adelie  Chinstrap  Gentoo\n",
      "sex                               \n",
      "Female       73         34      58\n",
      "Male         73         34      61\n"
     ]
    }
   ],
   "source": [
    "speciesSexTable = create_contingency_table(penguin, 'species', 'sex')\n",
    "print(speciesSexTable)"
   ]
  },
  {
   "cell_type": "markdown",
   "id": "9e31d25a",
   "metadata": {},
   "source": [
    "#### Conclusie species vs sex\n",
    "Uit de contingency tabel kan ik afleiden dat in alle drie de eilanden, bijna evenveel mannelijke en vrouwtjes penguins voorkomen.\n",
    "Behalve op Gentoo, maar het verschil is marginaal.\n",
    "\n",
    "Ik kan dus concluderen dat er nauwelijks verschil is tussen ratio mannen en vrouwen op de eilanden.\n",
    "Er is geen verband tussen sex and species.\n",
    "Dit komt overeen met mijn hypothese."
   ]
  },
  {
   "cell_type": "code",
   "execution_count": 14,
   "id": "11aa4df0",
   "metadata": {},
   "outputs": [
    {
     "data": {
      "text/plain": [
       "<AxesSubplot:xlabel='sex'>"
      ]
     },
     "execution_count": 14,
     "metadata": {},
     "output_type": "execute_result"
    },
    {
     "data": {
      "image/png": "[encoded data removed]",
      "text/plain": [
       "<Figure size 640x480 with 1 Axes>"
      ]
     },
     "metadata": {},
     "output_type": "display_data"
    }
   ],
   "source": [
    "# Create a bar plot\n",
    "speciesSexTable.plot(kind='bar')"
   ]
  },
  {
   "cell_type": "markdown",
   "id": "8cd30698",
   "metadata": {},
   "source": [
    "#### chi-squared test species vs sex"
   ]
  },
  {
   "cell_type": "code",
   "execution_count": 11,
   "id": "dd193ea9",
   "metadata": {},
   "outputs": [
    {
     "name": "stdout",
     "output_type": "stream",
     "text": [
      "The odds of a correlation between species and sex is 2.4010631023415385% (Based on a p value of 0.9759893689765846).\n",
      "This percentage needs to be at least 95% for a significant correlation.\n"
     ]
    }
   ],
   "source": [
    "check_cat_vs_cat_correlation(penguin, 'species', 'sex')"
   ]
  },
  {
   "cell_type": "markdown",
   "id": "1b5dc308",
   "metadata": {},
   "source": [
    "### island vs sex\n",
    "\n",
    "#### Mijn hypothese\n",
    "Tussen island en sex denk ik dat geen verband is tussen de twee kolommen."
   ]
  },
  {
   "cell_type": "code",
   "execution_count": 16,
   "id": "5b4be450",
   "metadata": {},
   "outputs": [],
   "source": [
    "islandSexTable = create_contingency_table(penguin, 'island', 'sex')"
   ]
  },
  {
   "cell_type": "code",
   "execution_count": 17,
   "id": "d6de1ad8",
   "metadata": {},
   "outputs": [
    {
     "data": {
      "text/html": [
       "<div>\n",
       "<style scoped>\n",
       "    .dataframe tbody tr th:only-of-type {\n",
       "        vertical-align: middle;\n",
       "    }\n",
       "\n",
       "    .dataframe tbody tr th {\n",
       "        vertical-align: top;\n",
       "    }\n",
       "\n",
       "    .dataframe thead th {\n",
       "        text-align: right;\n",
       "    }\n",
       "</style>\n",
       "<table border=\"1\" class=\"dataframe\">\n",
       "  <thead>\n",
       "    <tr style=\"text-align: right;\">\n",
       "      <th>island</th>\n",
       "      <th>Biscoe</th>\n",
       "      <th>Dream</th>\n",
       "      <th>Torgersen</th>\n",
       "    </tr>\n",
       "    <tr>\n",
       "      <th>sex</th>\n",
       "      <th></th>\n",
       "      <th></th>\n",
       "      <th></th>\n",
       "    </tr>\n",
       "  </thead>\n",
       "  <tbody>\n",
       "    <tr>\n",
       "      <th>Female</th>\n",
       "      <td>80</td>\n",
       "      <td>61</td>\n",
       "      <td>24</td>\n",
       "    </tr>\n",
       "    <tr>\n",
       "      <th>Male</th>\n",
       "      <td>83</td>\n",
       "      <td>62</td>\n",
       "      <td>23</td>\n",
       "    </tr>\n",
       "  </tbody>\n",
       "</table>\n",
       "</div>"
      ],
      "text/plain": [
       "island  Biscoe  Dream  Torgersen\n",
       "sex                             \n",
       "Female      80     61         24\n",
       "Male        83     62         23"
      ]
     },
     "execution_count": 17,
     "metadata": {},
     "output_type": "execute_result"
    }
   ],
   "source": [
    "islandSexTable"
   ]
  },
  {
   "cell_type": "code",
   "execution_count": 26,
   "id": "9068fd4a",
   "metadata": {},
   "outputs": [
    {
     "data": {
      "text/plain": [
       "<AxesSubplot:>"
      ]
     },
     "execution_count": 26,
     "metadata": {},
     "output_type": "execute_result"
    },
    {
     "data": {
      "image/png": "[encoded data removed]",
      "text/plain": [
       "<Figure size 640x480 with 1 Axes>"
      ]
     },
     "metadata": {},
     "output_type": "display_data"
    }
   ],
   "source": [
    "penguin.sex.value_counts().plot(kind='bar')"
   ]
  },
  {
   "cell_type": "code",
   "execution_count": 27,
   "id": "5833d7b2",
   "metadata": {},
   "outputs": [
    {
     "data": {
      "text/plain": [
       "<AxesSubplot:>"
      ]
     },
     "execution_count": 27,
     "metadata": {},
     "output_type": "execute_result"
    },
    {
     "data": {
      "image/png": "[encoded data removed]",
      "text/plain": [
       "<Figure size 640x480 with 1 Axes>"
      ]
     },
     "metadata": {},
     "output_type": "display_data"
    }
   ],
   "source": [
    "penguin.island.value_counts().plot(kind='bar')"
   ]
  },
  {
   "cell_type": "markdown",
   "id": "53300e30",
   "metadata": {},
   "source": [
    "#### Conclusie contigency table island vs sex\n",
    "Uit de tabel blijkt dat er kleine verschillen zijn tussen het aantal vrouwtjes penguins per eiland, maar dit verschil is echter zeer marginaal.\n",
    "\n",
    "Ik kan hierop niet concluderen dat er een verband is tussen sex en island.\n"
   ]
  },
  {
   "cell_type": "code",
   "execution_count": 19,
   "id": "92e7473b",
   "metadata": {},
   "outputs": [
    {
     "data": {
      "text/plain": [
       "<AxesSubplot:xlabel='sex'>"
      ]
     },
     "execution_count": 19,
     "metadata": {},
     "output_type": "execute_result"
    },
    {
     "data": {
      "image/png": "[encoded data removed]",
      "text/plain": [
       "<Figure size 640x480 with 1 Axes>"
      ]
     },
     "metadata": {},
     "output_type": "display_data"
    }
   ],
   "source": [
    "islandSexTable.plot(kind='bar')"
   ]
  },
  {
   "cell_type": "markdown",
   "id": "cd427035",
   "metadata": {},
   "source": [
    "Uit de grafiek blijkt dat de verhouding vrouwtjes penguin en mannetjes penguin ongeveer gelijk is per eiland.\n",
    "Er is geen verband "
   ]
  },
  {
   "cell_type": "code",
   "execution_count": 18,
   "id": "8b5c6253",
   "metadata": {},
   "outputs": [
    {
     "name": "stdout",
     "output_type": "stream",
     "text": [
      "The odds of a correlation between island and sex is 2.8388770718934975% (Based on a p value of 0.971611229281065).\n",
      "This percentage needs to be at least 95% for a significant correlation.\n"
     ]
    }
   ],
   "source": [
    "check_cat_vs_cat_correlation(penguin, 'island', 'sex')"
   ]
  },
  {
   "cell_type": "markdown",
   "id": "64f9f8b1",
   "metadata": {},
   "source": [
    "#### Chi-square-test island vs sex\n",
    "Uit de chi-square test blijkt dat het verband tussen island en sex zeer laag is met 2.84 %."
   ]
  },
  {
   "cell_type": "code",
   "execution_count": null,
   "id": "1d77db82",
   "metadata": {},
   "outputs": [],
   "source": []
  }
 ],
 "metadata": {
  "kernelspec": {
   "display_name": "Python 3 (ipykernel)",
   "language": "python",
   "name": "python3"
  },
  "language_info": {
   "codemirror_mode": {
    "name": "ipython",
    "version": 3
   },
   "file_extension": ".py",
   "mimetype": "text/x-python",
   "name": "python",
   "nbconvert_exporter": "python",
   "pygments_lexer": "ipython3",
   "version": "3.9.13"
  }
 },
 "nbformat": 4,
 "nbformat_minor": 5
}
