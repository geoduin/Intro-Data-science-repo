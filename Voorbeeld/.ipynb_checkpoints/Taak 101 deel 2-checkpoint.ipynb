{
 "cells": [
  {
   "cell_type": "markdown",
   "id": "73cec474",
   "metadata": {},
   "source": [
    "# Rapport"
   ]
  },
  {
   "cell_type": "markdown",
   "id": "55f794a2",
   "metadata": {},
   "source": [
    "## Data science lifecycle\n",
    "<figure>\n",
    "    <img src=\"https://docs.microsoft.com/en-us/azure/machine-learning/team-data-science-process/media/overview/tdsp-lifecycle2.png\" width=\"750\"/>\n",
    "    <figcaption>Figuur 1. Afbeelding data science lifecycle</figcaption>\n",
    "</figure>\n"
   ]
  },
  {
   "cell_type": "markdown",
   "id": "529f8156",
   "metadata": {},
   "source": [
    "## Definitie\n",
    "Data science is een interdisciplinaire wetenschap waarbij het aan de hand processen, algoritmes en wetenschappelijke methoden tot nieuwe inzichten komen\n",
    "Interdisciplinair, in de context van wetenschappelijke methodieken uit verschillende soorten wetenschappen zoals: Informatica, Wiskunde, Bedrijfskunde, Machine Learning, Business Analytics en Software ontwikkeling\n",
    "Hiermee kunnen analyzes doen op ruwe data, waarmee we nieuwe inzichtingen krijgen op onze data.\n",
    "Afhankelijk van bedrijfsstrategie en doelen, kunnen we deze producten toepassen om binnen de organisatie betere beslissingen te maken.\n",
    "\n"
   ]
  },
  {
   "cell_type": "markdown",
   "id": "4631a9ff",
   "metadata": {},
   "source": [
    "## Explorative analyses\n",
    "\n",
    "Om de data te analyseren vanuit verschillende invalshoeken en daarmee producten te crëeren, passen we Explorative analysis toe. \n",
    "Met als doel om nieuwe inzichtingen te vergaren en patronen te vinden in onze data en dat te verwerken in verschillende applicaties of als zelfstandige applicatie.\n",
    "\n",
    "Onder Explorative analyses vallen onder anderen Univeriate, Bivariate en Multivariate analyses."
   ]
  },
  {
   "cell_type": "markdown",
   "id": "c2327abf",
   "metadata": {},
   "source": [
    "### Voorbeeld Univeriate analysis: Taak 6"
   ]
  },
  {
   "cell_type": "markdown",
   "id": "88f57fc2",
   "metadata": {},
   "source": [
    "Een voorbeeld van de interdisciplinaire aanpak binnen data science is Taak 6. \n",
    "\n",
    "Hierbij werd een univeriate analyse uitgevoerd op een voetbalstatistische dataset.\n",
    "Voor catagorische data werd de aantallen van ieder unieke rij uitgerekend en gevisualiseerd in een staafgrafiek.\n",
    "Voor numerische data werdt er gecontroleerd wat de mean, mediaan, gemiddelde, minimale en maximale waarden berekend. \n",
    "Ook werd de distributie en standaardafwijking van de nummerische waarden berekend.\n",
    "\n",
    "Op basis van deze opdracht kan er al een aantal conclusies getrokken worden bij deze aanpak. De dataset is gerelateerd aan voetbal en bevat voetbalgerelateerde kolommen, zoals xG, shots On Target en competitienamen.\n",
    "Bij het analyseren van de data, wiskundige methodieken zijn toegepast, zoals mediaan en standaardafwijking.\n",
    "\n",
    "Het doel van een univeriate analysis is om de data te verkennen. Wat voor kolommen zijn er? Wat (voor)/Hoeveel unieke waarden zijn er? Hoe is de data gedistributeerd?\n",
    "Er wordt dus geanalyseerd wat voor soort data de dataset bevatten."
   ]
  },
  {
   "cell_type": "markdown",
   "id": "553d13da",
   "metadata": {},
   "source": [
    "### Voorbeeld Bivariate analysis\n",
    "Voor het vergaren van nieuwe inzichten, wordt er vervolgens over twee kolommen vergeleken. Catagorisch vs Nummerisch, Catagorisch vs Catagorisch en Nummerisch vs Nummerisch. Dit wordt ook wel bivariate analysis genoemd. \n",
    "Het doel van een bivariate analyse is om verbanden te zoeken tussen twee kolommen.\n",
    "\n",
    "In taak 15 heb ik de nummerische kolommen Goals en (Shots)OnTarget gebruikt om een verband te vinden. Met behulp van de pearson correlation, kunnen we zien dat er een sterk verband is tussen de kolommen. Zie taak 15 voor de uitwerking.\n",
    "\n",
    "In taak 12 heb ik tussen de kolommen Country en Goals vergeleken, Country een catagorische data en Goals nummerisch. Hierbij werden alle Countries gegroepeert en werd de Mean waarde van de Goals berekend. Vervolgens werden deze resultaten in een staafgrafiek weergeven met een confidence interval. Als de confidence intervallen niet met elkaar overlappen, dan kunnen we concluderen dat er een sterk verband is tussen beide kolommen.\n",
    "In dit geval was er tussen Country en Goals een verband, maar de confidence intervallen overlapten met elkaar\n"
   ]
  },
  {
   "cell_type": "markdown",
   "id": "f60b2805",
   "metadata": {},
   "source": [
    "### Voorbeeld Multivariate analysis taak 16\n",
    "Een aspect van data science is het berekenen of voorspellen van waarde die er nog niet zijn, met behulp van multivariate analyses. Hierbij zullen bepaalde machine learning methodieken gebruikt worden om dat voor elkaar te krijgen.\n",
    "\n",
    "Bijvoorbeeld in Taak 16 is het eindresultaat is een model dat kan voorspellen of een speler een qua doelpunten een goede rating toegedient krijgt aan d.h.v. de overige kolommen. \n",
    "Sinds de Goals Rating kolom een catagorische waarde is. Heet het proces waarin we catagorische data voorspellen/berekenen classification.\n",
    "Nu we weten wat er voorspeld moet worden, zal het model getraind moeten worden. Daarvoor zullen we data nodig hebben om ermee te trainen en te valideren. In dit geval maakt het gebruik van de voetbal dataset. Dat splitsen we 70/30 procent in trainingdata en testdata.\n",
    "Vervolgens zullen we het model moeten trainen, in dit geval voeren we een classification uit. \n",
    "We maken hierin gebruik van een decision tree, Een machine learning algorithme waarbij een dataset constant in 2 verschillende nodes verdeeld wordt op basis van een conditie gebasseerd op de meegegeven feature kolommen.\n",
    "In dit geval geef ik in de uitwerking de Matches_Played, Shots Per Avg Match, On Target Per Avg Match en Mins als feature kolom meegegeven. Hierin wordt de lijst of verdeeld op 1 van de vier kolommen, dat doorleert afhankelijk van de max_depth. \n",
    "Nadat dit proces is doorlopen, zal het model getest worden op nauwkeurigheid.Hoe hoger het getal, hoe nauwkeuriger het model. Een model kan minder nauwkeurig zijn door te weinig data of als de decision tree te diep is.\n",
    "\n",
    "Na deze processen, kan het model gebruikt worden voor het voorspellen van een Goals Rating van een speler.\n",
    "\n",
    "Als we nummerische waarden willen voorspellen, dan wordt hetzelfde proces toegepast behalve de trainingsmethode. Hierin maken we gebruik van een Regressie-algorithme.\n",
    "Een voorbeeld is de uitwerking Taak 18, waarbij we het aantal doelpunten willen voorspellen met behulp van de kolommen: Matches_Played, Shots Per Avg Match, On Target Per Avg Match en Mins. Met behulp van een regression decision tree, trainen we het model en krijgen we als eindresultaat een model dat het aantal doelpunten kan voorspellen.\n",
    "\n",
    "Bij testen maken we gebruik van testdata. Afhankelijk van de target attribuut krijgen we een RMSE waarde terug.\n",
    "\n",
    "Al deze methoden zijn bedoeld om voorspellingen te kunnen doen, met behulp van machine learning. Met als eindresultaat een model."
   ]
  },
  {
   "cell_type": "markdown",
   "id": "358067a5",
   "metadata": {},
   "source": [
    "### Relatie data science tot Business Intelligence "
   ]
  },
  {
   "cell_type": "markdown",
   "id": "a86caaa6",
   "metadata": {},
   "source": [
    "Tussen de domeinen Business Intelligence en data science wordt er veel samengewerkt. Volgens Ter Braake is Business Intelligence process waarin er aan de hand van data en gegevens beslissingen gemaakt worden. Afhankelijk van BI-volwassenheidsniveau, maakt een organisatie gebruik van bepaalde soorten analytics. Als een organisatie een hoog BI-volwassenheidsniveau bezit, dan maakt een organisatie gebruik van Advanced analytics om zichzelf te innoveren. Een vorm van advanced analytics is Predictive analyses. Hiervoor is data science geschikt voor.\n",
    "Data science maakt gebruik van Explorative analysis om de ruwe data te analyzeren, verbanden te leggen en nieuwe data te voorspellen. Het is een onderdeel van advanced analytics en heeft ten opzichte van Business Intelligence een hele aanpak.\n",
    "\n",
    "In Business Intelligence wordt er vooral een top-down aanpak gedaan, waarin er vooraf nagedacht wordt over de data en dat vervolgens bewijzen. Bij data science wordt er een bottom-down aanpak gebruikt om data te analyzeren. Hierbij wordt de data allereerst geobserveerd, vervolgens verbanden te leggen en dan hypotheses en conclusies getrokken.\n",
    "\n",
    "Een voorbeeld van dit proces, zullen de uitwerkingen van taak 7, 10 tot 12 en 16 tot 19 als voorbeeld fungeren.\n",
    "\n",
    "In taak 7 werd een univariate analyse uitgevoerd op de voetbaldataset. In deze stap hebben we onderzocht wat voor soorten data de dataset bevatten. Bijvoorbeeld de hoeveelheid data met dezelfde gegevens van de Voetbalcompetitie kolom, of de standaarddistributie van de Goals kolom van iedere speler. Ieder kolom wordt individueel geanalyseerd om te onderzoeken wat voor soort data een dataset bezit.\n",
    "\n",
    "In taak 10 tot 12 werd een bivariate analyses uitgevoerd. Hierbij zal er tussen twee kolommen geanalyseerd worden. Het doel hiervan is om verbanden te leggen tussen de twee kolommen. Tussen twee numerische kolommen, wordt de pearson correlation toegepast voor het meten van verbanden. Tussen twee catagorische data wordt een contigency tabel en chi-square formule gebruikt en tussen nummerisch en catagorische kolommen wordt een confidence interval gebruikt voor validatie.\n",
    "Dit betekent nog niet dat als er een sterk verband is tussen twee kolommen, dat de ene kolom de ander ook daadwerkelijk beinvloed. \n",
    "In deze fase is het doel om patronen te weergeven tussen twee kolommen. \n",
    "Om tussen meerdere kolommen te analyzeren, maken we gebruik van Multivariate analyze, waarbij we aan de hand van Machine learning algorithmes voorspellingen kunnen doen op basis van bestaande gegevens. Decisiontrees voor het voorspellen van catagorische data en Regressiedecisiontrees voor het voorspellen van nummerische data. \n",
    "Met clusters kunnen we met KMeans verbanden leggen over meerdere kolommen. Bij taak 19 konden we daarom met de flipper_length_mm laten zien wat voor species een penguin is.\n",
    "\n",
    "Het eindresultaat is een model dat een voorspellingen kan doen aan de hand van bestaande data. Met deze voorspellingen kunnen ze gebruikt worden binnen business intelligence om nieuwe inzichten te vergaren, waardoor het mogelijk wordt om betere beslissingen te maken en zichzelf te innoveren.\n",
    "\n",
    "Data science speelt een rol binnen Business Intelligence door advanced analytics en alle andere methodieken toe te passen om voorspellingen te doen. Het eindresultaat zijn nieuwe inzichtingen en voorspellingen, waarmee een BI-organisatie nieuwe beslissingen kan maken. \n",
    "Uit dit proces, kan er opgemaakt worden dat er vooraf bottom-up aanpak wordt toegepast binnen een data science lifecycle. Alle data wordt geanalyseerd voordat er patronen ontdekt worden en waarnaar er vervolgens conclusies getrokken kan worden.\n"
   ]
  },
  {
   "cell_type": "markdown",
   "id": "4c150e2e",
   "metadata": {},
   "source": [
    "Bron: Ter Braake, P. (2022). Leerboek Business Intelligence."
   ]
  },
  {
   "cell_type": "markdown",
   "id": "4efc9614",
   "metadata": {},
   "source": [
    "### Relatie data science to AI"
   ]
  },
  {
   "cell_type": "markdown",
   "id": "05c83ad2",
   "metadata": {},
   "source": [
    "Data science maakt gebruik van AI - Machine learning om precies te zijn - om voorspellingen en berekeningen uit te voeren op data die er nog niet is. Het doel hiervan is om nieuwe inzichtingen en patronen te vinden. \n",
    "Om dat doel te bereiken maken we Machine learning(ML) modellen om dit te faciliteren.\n",
    "We gebruiken deze modellen om met minimale menselijke input grote hoeveelheid data te kunnen analyzeren en voorspellingen te maken.\n",
    "Maar een aspect van ML is dat zulke modellen getraind moeten worden aan de hand relevante data. Dit wordt geleverd door data science, dat de ruwe data al heeft geanalyseerd. Waarmee een ML-model op een systematische wijze leert.\n",
    "\n",
    "In taken 16 en 18 werd een multivariate analyse toegepast om voorspellingen te doen. Daar maken we gebruik van ML-algorithmes.\n",
    "In taak 16 werd een ML-model getraind om een catagorische kolom zoals de Goal Rating van een speler te bepalen aan de hand. Hierbij werd een decisiontree algorithmes toegepast als trainingsmethode.\n",
    "Hiermee kan het de goal rating van een speler voorspellen.\n",
    "\n",
    "In taak 18 werd een model getraind om het aantal doelpunten te voorspellen, met behulp van een Regressiontree algorithme.\n",
    "\n",
    "AI kan vervolgens nieuwe data genereren, via algoritmes, voorspellingen. Nieuwe inzichten kunnen aan het licht komen.\n",
    "\n",
    "AI maakt gebruik van de ruwe data die data science verwerft en traint zichzelf om hiermee nieuwe berekeningen en voorspellingen te doen. Het resultaat leidt tot nieuwe inzichten en patronen."
   ]
  }
 ],
 "metadata": {
  "kernelspec": {
   "display_name": "Python 3 (ipykernel)",
   "language": "python",
   "name": "python3"
  },
  "language_info": {
   "codemirror_mode": {
    "name": "ipython",
    "version": 3
   },
   "file_extension": ".py",
   "mimetype": "text/x-python",
   "name": "python",
   "nbconvert_exporter": "python",
   "pygments_lexer": "ipython3",
   "version": "3.9.13"
  }
 },
 "nbformat": 4,
 "nbformat_minor": 5
}
