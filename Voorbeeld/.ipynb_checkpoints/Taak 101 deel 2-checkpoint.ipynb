{
 "cells": [
  {
   "cell_type": "markdown",
   "id": "73cec474",
   "metadata": {},
   "source": [
    "# Rapport"
   ]
  },
  {
   "cell_type": "markdown",
   "id": "55f794a2",
   "metadata": {},
   "source": [
    "## Data science lifecycle\n",
    "<figure>\n",
    "    <img src=\"https://docs.microsoft.com/en-us/azure/machine-learning/team-data-science-process/media/overview/tdsp-lifecycle2.png\" width=\"750\"/>\n",
    "    <figcaption>Figuur 1. Afbeelding data science lifecycle</figcaption>\n",
    "</figure>\n"
   ]
  },
  {
   "cell_type": "markdown",
   "id": "529f8156",
   "metadata": {},
   "source": [
    "## Definitie\n",
    "Data science is een interdisciplinaire wetenschap waarbij het aan de hand processen, algoritmes en wetenschappelijke methoden tot nieuwe inzichten komen\n",
    "Interdisciplinair, in de context van wetenschappelijke methodieken uit verschillende soorten wetenschappen zoals: Informatica, Wiskunde, Bedrijfskunde, Machine Learning, Business Analytics en Software ontwikkeling\n",
    "Hiermee kunnen analyzes doen op ruwe data, waarmee we nieuwe inzichtingen krijgen op onze data.\n",
    "Afhankelijk van bedrijfsstrategie en doelen, kunnen we deze producten toepassen om binnen de organisatie betere beslissingen te maken.\n",
    "\n"
   ]
  },
  {
   "cell_type": "markdown",
   "id": "4631a9ff",
   "metadata": {},
   "source": [
    "## Explorative analyses\n",
    "\n",
    "Om de data te analyseren vanuit verschillende invalshoeken en daarmee producten te crëeren, passen we Explorative analysis toe. \n",
    "Met als doel om nieuwe inzichtingen te vergaren en patronen te vinden in onze data en dat te verwerken in verschillende applicaties of als zelfstandige applicatie.\n",
    "\n",
    "Onder Explorative analyses vallen onder anderen Univeriate, Bivariate en Multivariate analyses."
   ]
  },
  {
   "cell_type": "markdown",
   "id": "c2327abf",
   "metadata": {},
   "source": [
    "### Voorbeeld Univeriate analysis: Taak 6"
   ]
  },
  {
   "cell_type": "markdown",
   "id": "88f57fc2",
   "metadata": {},
   "source": [
    "Een voorbeeld van de interdisciplinaire aanpak binnen data science is Taak 6. \n",
    "\n",
    "Hierbij werd een univeriate analyse uitgevoerd op een voetbalstatistische dataset.\n",
    "Voor catagorische data werd de aantallen van ieder unieke rij uitgerekend en gevisualiseerd in een staafgrafiek.\n",
    "Voor numerische data werdt er gecontroleerd wat de mean, mediaan, gemiddelde, minimale en maximale waarden berekend. \n",
    "Ook werd de distributie en standaardafwijking van de nummerische waarden berekend.\n",
    "\n",
    "Op basis van deze opdracht kan er al een aantal conclusies getrokken worden bij deze aanpak. De dataset is gerelateerd aan voetbal en bevat voetbalgerelateerde kolommen, zoals xG, shots On Target en competitienamen.\n",
    "Bij het analyseren van de data, wiskundige methodieken zijn toegepast, zoals mediaan en standaardafwijking.\n",
    "\n",
    "Het doel van een univeriate analysis is om de data te verkennen. Wat voor kolommen zijn er? Wat (voor)/Hoeveel unieke waarden zijn er? Hoe is de data gedistributeerd?\n",
    "Er wordt dus geanalyseerd wat voor soort data de dataset bevatten."
   ]
  },
  {
   "cell_type": "code",
   "execution_count": null,
   "id": "651f695a",
   "metadata": {},
   "outputs": [],
   "source": []
  },
  {
   "cell_type": "markdown",
   "id": "553d13da",
   "metadata": {},
   "source": [
    "### Voorbeeld Bivariate analysis\n",
    "Voor het vergaren van nieuwe inzichten, wordt er vervolgens over twee kolommen vergeleken. Catagorisch vs Nummerisch, Catagorisch vs Catagorisch en Nummerisch vs Nummerisch. Dit wordt ook wel bivariate analysis genoemd. \n",
    "Het doel van een bivariate analyse is om verbanden te zoeken tussen twee kolommen.\n",
    "\n",
    "In taak 10 heb ik de nummerische kolommen Goals en (Shots)OnTarget gebruikt om een verband te vinden. Met behulp van de pearson correlation, kunnen we zien dat er een sterk verband is tussen de kolommen. Zie taak 15 voor de uitwerking.\n",
    "\n",
    "In taak 12 heb ik tussen de kolommen Country en Goals vergeleken, Country een catagorische data en Goals nummerisch. Hierbij werden alle Countries gegroepeert en werd de Mean waarde van de Goals berekend. Vervolgens werden deze resultaten in een staafgrafiek weergeven met een confidence interval. Als de confidence intervallen niet met elkaar overlappen, dan kunnen we concluderen dat er een sterk verband is tussen beide kolommen.\n",
    "In dit geval was er tussen Country en Goals een verband, maar de confidence intervallen overlapten met elkaar\n"
   ]
  },
  {
   "cell_type": "markdown",
   "id": "f60b2805",
   "metadata": {},
   "source": [
    "### Voorbeeld Multivariate analysis taak 15\n",
    "\n",
    "Bij taak 15 werd"
   ]
  },
  {
   "cell_type": "markdown",
   "id": "358067a5",
   "metadata": {},
   "source": [
    "### Relatie data science tot Business Intelligence "
   ]
  },
  {
   "cell_type": "markdown",
   "id": "a86caaa6",
   "metadata": {},
   "source": [
    "##### Kernwoorden\n",
    "Explorative analysis is onderdeel van advanced analytics. Binnen BI organisatie alleen van toepassing als een organisatie op het niveau Intelligente organisatie zit.\n",
    "Explorative analysis is een vorm van bottom up aanpak. Business Intelligence hanteert een top-down aanpak.\n"
   ]
  },
  {
   "cell_type": "markdown",
   "id": "4efc9614",
   "metadata": {},
   "source": [
    "### Relatie data science to AI"
   ]
  },
  {
   "cell_type": "markdown",
   "id": "05c83ad2",
   "metadata": {},
   "source": [
    "##### Kernwoorden\n",
    "Taak 18 en 19.\n",
    "\n",
    "Machine learning algorithmes kan modellen trainen om voorspellingen te doen.\n",
    "\n",
    "Binnen de data science life cycle nodig om patronen in data ontdekken.\n",
    "\n",
    "ML zal eerst aan de hand van data, getraint moeten worden om bruikbaar te zijn.\n",
    "\n",
    "Aan de hand van Clusters, kunnen nieuwe inzichten vergaart worden.\n",
    "\n",
    "AI kan vervolgens nieuwe data genereren, via algoritmes, voorspellingen. Nieuwe inzichten kunnen aan het licht komen."
   ]
  },
  {
   "cell_type": "code",
   "execution_count": null,
   "id": "44041706",
   "metadata": {},
   "outputs": [],
   "source": []
  },
  {
   "cell_type": "code",
   "execution_count": null,
   "id": "2b136b02",
   "metadata": {},
   "outputs": [],
   "source": []
  }
 ],
 "metadata": {
  "kernelspec": {
   "display_name": "Python 3 (ipykernel)",
   "language": "python",
   "name": "python3"
  },
  "language_info": {
   "codemirror_mode": {
    "name": "ipython",
    "version": 3
   },
   "file_extension": ".py",
   "mimetype": "text/x-python",
   "name": "python",
   "nbconvert_exporter": "python",
   "pygments_lexer": "ipython3",
   "version": "3.9.13"
  }
 },
 "nbformat": 4,
 "nbformat_minor": 5
}
