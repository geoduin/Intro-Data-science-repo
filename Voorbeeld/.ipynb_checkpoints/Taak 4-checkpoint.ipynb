{
 "cells": [
  {
   "cell_type": "code",
   "execution_count": 2,
   "id": "9e0a852e",
   "metadata": {},
   "outputs": [],
   "source": [
    "import pandas as pd"
   ]
  },
  {
   "cell_type": "code",
   "execution_count": 3,
   "id": "5b6f7144",
   "metadata": {},
   "outputs": [],
   "source": [
    "import seaborn as sns"
   ]
  },
  {
   "cell_type": "code",
   "execution_count": 5,
   "id": "d483ec06",
   "metadata": {},
   "outputs": [],
   "source": [
    "penguins = pd.read_csv(r'appearances.csv')"
   ]
  },
  {
   "cell_type": "code",
   "execution_count": null,
   "id": "fa902ba5",
   "metadata": {},
   "outputs": [],
   "source": [
    "penguins['player_name'].unique()"
   ]
  },
  {
   "cell_type": "code",
   "execution_count": null,
   "id": "4b035c1b",
   "metadata": {},
   "outputs": [],
   "source": [
    "penguins['player_name'].value_counts().plot(kind='bar')"
   ]
  },
  {
   "cell_type": "code",
   "execution_count": null,
   "id": "3d749d5b",
   "metadata": {},
   "outputs": [],
   "source": []
  }
 ],
 "metadata": {
  "kernelspec": {
   "display_name": "Python 3 (ipykernel)",
   "language": "python",
   "name": "python3"
  },
  "language_info": {
   "codemirror_mode": {
    "name": "ipython",
    "version": 3
   },
   "file_extension": ".py",
   "mimetype": "text/x-python",
   "name": "python",
   "nbconvert_exporter": "python",
   "pygments_lexer": "ipython3",
   "version": "3.9.13"
  }
 },
 "nbformat": 4,
 "nbformat_minor": 5
}
