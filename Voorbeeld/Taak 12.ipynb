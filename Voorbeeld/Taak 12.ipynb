{
 "cells": [
  {
   "cell_type": "code",
   "execution_count": 1,
   "id": "6fe48a9c",
   "metadata": {},
   "outputs": [],
   "source": [
    "import numpy as np\n",
    "import pandas as pd\n",
    "import seaborn as sns\n",
    "import matplotlib.pylab as plt\n",
    "\n",
    "plt.rcParams[\"figure.figsize\"] = [7.00, 3.50]\n",
    "plt.rcParams[\"figure.autolayout\"] = True\n",
    "leagues = ['La Liga', 'Serie A', 'Bundesliga', 'Premier League',\n",
    "       'Campeonato Brasileiro SÃ©rie A', 'France Ligue 1', 'MLS', 'Primeira Liga', 'Eredivisie']\n",
    "data = pd.read_csv('Data.csv')\n",
    "data.loc[data[\"Country\"] == 'France', \"League\"] = \"France Ligue 1\""
   ]
  },
  {
   "cell_type": "markdown",
   "id": "149ce3a0",
   "metadata": {},
   "source": [
    "### Portfolio assignment 12\n",
    "30 min: Perform a bivariate analysis on at least 3 combinations of a numerical column with a categorical column in the dataset that you chose in portfolio assignment 4. Use <em>.groupby('columnname').mean()</em> to calculate the means. Is there a difference between categories? Then use seaborn barplots to check if there is a statistically significant difference. "
   ]
  },
  {
   "cell_type": "code",
   "execution_count": 2,
   "id": "6b289641",
   "metadata": {},
   "outputs": [],
   "source": [
    "# De catagoriën die in deze opdracht gebruikt zal worden zijn: Country, League, Club\n",
    "# De nummerische waarden die gebruikt zullen worden zijn: Goals, xG en Shots per Avg Match\n",
    "\n",
    "# Combinaties\n",
    "# Country and Goals\n",
    "\n",
    "# League and Goals\n",
    "\n",
    "# League and xG"
   ]
  },
  {
   "cell_type": "code",
   "execution_count": 3,
   "id": "2429d5fb",
   "metadata": {
    "scrolled": true
   },
   "outputs": [
    {
     "data": {
      "text/html": [
       "<div>\n",
       "<style scoped>\n",
       "    .dataframe tbody tr th:only-of-type {\n",
       "        vertical-align: middle;\n",
       "    }\n",
       "\n",
       "    .dataframe tbody tr th {\n",
       "        vertical-align: top;\n",
       "    }\n",
       "\n",
       "    .dataframe thead th {\n",
       "        text-align: right;\n",
       "    }\n",
       "</style>\n",
       "<table border=\"1\" class=\"dataframe\">\n",
       "  <thead>\n",
       "    <tr style=\"text-align: right;\">\n",
       "      <th></th>\n",
       "      <th>Country</th>\n",
       "      <th>League</th>\n",
       "      <th>Club</th>\n",
       "      <th>Player Names</th>\n",
       "      <th>Matches_Played</th>\n",
       "      <th>Substitution</th>\n",
       "      <th>Mins</th>\n",
       "      <th>Goals</th>\n",
       "      <th>xG</th>\n",
       "      <th>xG Per Avg Match</th>\n",
       "      <th>Shots</th>\n",
       "      <th>OnTarget</th>\n",
       "      <th>Shots Per Avg Match</th>\n",
       "      <th>On Target Per Avg Match</th>\n",
       "      <th>Year</th>\n",
       "    </tr>\n",
       "  </thead>\n",
       "  <tbody>\n",
       "    <tr>\n",
       "      <th>0</th>\n",
       "      <td>Spain</td>\n",
       "      <td>La Liga</td>\n",
       "      <td>(BET)</td>\n",
       "      <td>Juanmi Callejon</td>\n",
       "      <td>19</td>\n",
       "      <td>16</td>\n",
       "      <td>1849</td>\n",
       "      <td>11</td>\n",
       "      <td>6.62</td>\n",
       "      <td>0.34</td>\n",
       "      <td>48</td>\n",
       "      <td>20</td>\n",
       "      <td>2.47</td>\n",
       "      <td>1.03</td>\n",
       "      <td>2016</td>\n",
       "    </tr>\n",
       "    <tr>\n",
       "      <th>1</th>\n",
       "      <td>Spain</td>\n",
       "      <td>La Liga</td>\n",
       "      <td>(BAR)</td>\n",
       "      <td>Antoine Griezmann</td>\n",
       "      <td>36</td>\n",
       "      <td>0</td>\n",
       "      <td>3129</td>\n",
       "      <td>16</td>\n",
       "      <td>11.86</td>\n",
       "      <td>0.36</td>\n",
       "      <td>88</td>\n",
       "      <td>41</td>\n",
       "      <td>2.67</td>\n",
       "      <td>1.24</td>\n",
       "      <td>2016</td>\n",
       "    </tr>\n",
       "    <tr>\n",
       "      <th>2</th>\n",
       "      <td>Spain</td>\n",
       "      <td>La Liga</td>\n",
       "      <td>(ATL)</td>\n",
       "      <td>Luis Suarez</td>\n",
       "      <td>34</td>\n",
       "      <td>1</td>\n",
       "      <td>2940</td>\n",
       "      <td>28</td>\n",
       "      <td>23.21</td>\n",
       "      <td>0.75</td>\n",
       "      <td>120</td>\n",
       "      <td>57</td>\n",
       "      <td>3.88</td>\n",
       "      <td>1.84</td>\n",
       "      <td>2016</td>\n",
       "    </tr>\n",
       "    <tr>\n",
       "      <th>3</th>\n",
       "      <td>Spain</td>\n",
       "      <td>La Liga</td>\n",
       "      <td>(CAR)</td>\n",
       "      <td>Ruben Castro</td>\n",
       "      <td>32</td>\n",
       "      <td>3</td>\n",
       "      <td>2842</td>\n",
       "      <td>13</td>\n",
       "      <td>14.06</td>\n",
       "      <td>0.47</td>\n",
       "      <td>117</td>\n",
       "      <td>42</td>\n",
       "      <td>3.91</td>\n",
       "      <td>1.40</td>\n",
       "      <td>2016</td>\n",
       "    </tr>\n",
       "    <tr>\n",
       "      <th>4</th>\n",
       "      <td>Spain</td>\n",
       "      <td>La Liga</td>\n",
       "      <td>(VAL)</td>\n",
       "      <td>Kevin Gameiro</td>\n",
       "      <td>21</td>\n",
       "      <td>10</td>\n",
       "      <td>1745</td>\n",
       "      <td>13</td>\n",
       "      <td>10.65</td>\n",
       "      <td>0.58</td>\n",
       "      <td>50</td>\n",
       "      <td>23</td>\n",
       "      <td>2.72</td>\n",
       "      <td>1.25</td>\n",
       "      <td>2016</td>\n",
       "    </tr>\n",
       "  </tbody>\n",
       "</table>\n",
       "</div>"
      ],
      "text/plain": [
       "  Country   League   Club       Player Names  Matches_Played  Substitution   \\\n",
       "0   Spain  La Liga  (BET)    Juanmi Callejon              19             16   \n",
       "1   Spain  La Liga  (BAR)  Antoine Griezmann              36              0   \n",
       "2   Spain  La Liga  (ATL)        Luis Suarez              34              1   \n",
       "3   Spain  La Liga  (CAR)       Ruben Castro              32              3   \n",
       "4   Spain  La Liga  (VAL)      Kevin Gameiro              21             10   \n",
       "\n",
       "   Mins  Goals     xG  xG Per Avg Match  Shots  OnTarget  Shots Per Avg Match  \\\n",
       "0  1849     11   6.62              0.34     48        20                 2.47   \n",
       "1  3129     16  11.86              0.36     88        41                 2.67   \n",
       "2  2940     28  23.21              0.75    120        57                 3.88   \n",
       "3  2842     13  14.06              0.47    117        42                 3.91   \n",
       "4  1745     13  10.65              0.58     50        23                 2.72   \n",
       "\n",
       "   On Target Per Avg Match  Year  \n",
       "0                     1.03  2016  \n",
       "1                     1.24  2016  \n",
       "2                     1.84  2016  \n",
       "3                     1.40  2016  \n",
       "4                     1.25  2016  "
      ]
     },
     "execution_count": 3,
     "metadata": {},
     "output_type": "execute_result"
    }
   ],
   "source": [
    "data.head()"
   ]
  },
  {
   "cell_type": "code",
   "execution_count": 4,
   "id": "ff16f959",
   "metadata": {},
   "outputs": [],
   "source": [
    "# Catagorical on Number"
   ]
  },
  {
   "cell_type": "code",
   "execution_count": 5,
   "id": "f790a76b",
   "metadata": {},
   "outputs": [],
   "source": [
    "sample = data[['Country', 'League', 'Club', 'Goals', 'xG', 'Shots Per Avg Match']]"
   ]
  },
  {
   "cell_type": "code",
   "execution_count": 6,
   "id": "7155a3f6",
   "metadata": {},
   "outputs": [
    {
     "data": {
      "text/plain": [
       "Index(['Country', 'League', 'Club', 'Goals', 'xG', 'Shots Per Avg Match'], dtype='object')"
      ]
     },
     "execution_count": 6,
     "metadata": {},
     "output_type": "execute_result"
    }
   ],
   "source": [
    "sample.columns"
   ]
  },
  {
   "cell_type": "code",
   "execution_count": 7,
   "id": "22a1d3a9",
   "metadata": {},
   "outputs": [
    {
     "data": {
      "text/plain": [
       "array(['La Liga', 'Serie A', 'Bundesliga', 'Premier League',\n",
       "       'Campeonato Brasileiro SÃ©rie A', 'France Ligue 1', 'MLS',\n",
       "       'Primeira Liga', 'Eredivisie'], dtype=object)"
      ]
     },
     "execution_count": 7,
     "metadata": {},
     "output_type": "execute_result"
    }
   ],
   "source": [
    "sample['League'].unique()"
   ]
  },
  {
   "cell_type": "code",
   "execution_count": 8,
   "id": "05bace4c",
   "metadata": {},
   "outputs": [],
   "source": [
    "result = sample.groupby('Country')"
   ]
  },
  {
   "cell_type": "code",
   "execution_count": 9,
   "id": "23cc3d63",
   "metadata": {},
   "outputs": [
    {
     "data": {
      "text/plain": [
       "Country\n",
       " Netherlands     8.300000\n",
       "Brazil          10.330000\n",
       "England         13.475000\n",
       "France          10.066667\n",
       "Germany         12.180000\n",
       "Italy           13.820000\n",
       "Portugal         7.450000\n",
       "Spain           13.140000\n",
       "USA             12.975000\n",
       "Name: Goals, dtype: float64"
      ]
     },
     "execution_count": 9,
     "metadata": {},
     "output_type": "execute_result"
    }
   ],
   "source": [
    "result['Goals'].mean()"
   ]
  },
  {
   "cell_type": "code",
   "execution_count": 10,
   "id": "fa900509",
   "metadata": {},
   "outputs": [],
   "source": [
    "# Country and Goals\n",
    "# Uit de resultaten blijkt dat er een statistische verschil is tussen catagoriëen als het gaat om doelpunten maken\n"
   ]
  },
  {
   "cell_type": "code",
   "execution_count": 11,
   "id": "3749be6f",
   "metadata": {},
   "outputs": [
    {
     "data": {
      "text/plain": [
       "<AxesSubplot:xlabel='Country', ylabel='Goals'>"
      ]
     },
     "execution_count": 11,
     "metadata": {},
     "output_type": "execute_result"
    },
    {
     "data": {
      "image/png": "[encoded data removed]",
      "text/plain": [
       "<Figure size 2000x600 with 1 Axes>"
      ]
     },
     "metadata": {},
     "output_type": "display_data"
    }
   ],
   "source": [
    "fig, ax = plt.subplots(figsize=(20, 6))\n",
    "sns.barplot(x=\"Country\", y=\"Goals\", data=sample, ax=ax)"
   ]
  },
  {
   "cell_type": "code",
   "execution_count": 12,
   "id": "93206767",
   "metadata": {},
   "outputs": [],
   "source": [
    "# Tussen Spanje, Italie, Duitsland, Engeland en de Verenigde staten zijn er weinig statistische verschillen te zien. De confidence intervallen overlappen met elkaar.\n",
    "# Nederland en portugal overlappen de confidence intervallen met frankrijk, maar de statistische verschillen met Spanje, Italie, Duitsland, Brazilië Engeland en de verenigde staten\n",
    "# Zijn statistisch zeer groot."
   ]
  },
  {
   "cell_type": "markdown",
   "id": "74dbe845",
   "metadata": {},
   "source": [
    "### League and Goals"
   ]
  },
  {
   "cell_type": "code",
   "execution_count": 14,
   "id": "661aa444",
   "metadata": {},
   "outputs": [],
   "source": [
    "result = sample.groupby('League')"
   ]
  },
  {
   "cell_type": "code",
   "execution_count": 15,
   "id": "9cfe0746",
   "metadata": {},
   "outputs": [
    {
     "data": {
      "text/plain": [
       "League\n",
       "Bundesliga                        12.180000\n",
       "Campeonato Brasileiro SÃ©rie A    10.330000\n",
       "Eredivisie                         8.300000\n",
       "France Ligue 1                    10.066667\n",
       "La Liga                           13.140000\n",
       "MLS                               12.975000\n",
       "Premier League                    13.475000\n",
       "Primeira Liga                      7.450000\n",
       "Serie A                           13.820000\n",
       "Name: Goals, dtype: float64"
      ]
     },
     "execution_count": 15,
     "metadata": {},
     "output_type": "execute_result"
    }
   ],
   "source": [
    "result['Goals'].mean()"
   ]
  },
  {
   "cell_type": "code",
   "execution_count": 28,
   "id": "593f0b8a",
   "metadata": {},
   "outputs": [
    {
     "data": {
      "text/plain": [
       "<AxesSubplot:xlabel='League', ylabel='Goals'>"
      ]
     },
     "execution_count": 28,
     "metadata": {},
     "output_type": "execute_result"
    },
    {
     "data": {
      "image/png": "[encoded data removed]",
      "text/plain": [
       "<Figure size 2000x1000 with 1 Axes>"
      ]
     },
     "metadata": {},
     "output_type": "display_data"
    }
   ],
   "source": [
    "fig, ax = plt.subplots(figsize=(20, 10))\n",
    "sns.barplot(x=\"League\", y=\"Goals\", data=sample, ax=ax)"
   ]
  },
  {
   "cell_type": "markdown",
   "id": "7ddb7efc",
   "metadata": {},
   "source": [
    "### League and xG"
   ]
  },
  {
   "cell_type": "code",
   "execution_count": 25,
   "id": "4879a11e",
   "metadata": {},
   "outputs": [],
   "source": [
    "result = sample.groupby('League')"
   ]
  },
  {
   "cell_type": "code",
   "execution_count": 26,
   "id": "36c32dbc",
   "metadata": {},
   "outputs": [
    {
     "data": {
      "text/plain": [
       "League\n",
       "Bundesliga                        10.121300\n",
       "Campeonato Brasileiro SÃ©rie A     9.508200\n",
       "Eredivisie                         6.412000\n",
       "France Ligue 1                     8.658500\n",
       "La Liga                           11.988400\n",
       "MLS                               10.411250\n",
       "Premier League                    11.736875\n",
       "Primeira Liga                      5.614500\n",
       "Serie A                           11.413800\n",
       "Name: xG, dtype: float64"
      ]
     },
     "execution_count": 26,
     "metadata": {},
     "output_type": "execute_result"
    }
   ],
   "source": [
    "result['xG'].mean()"
   ]
  },
  {
   "cell_type": "code",
   "execution_count": 27,
   "id": "e371e110",
   "metadata": {},
   "outputs": [
    {
     "data": {
      "text/plain": [
       "<AxesSubplot:xlabel='League', ylabel='xG'>"
      ]
     },
     "execution_count": 27,
     "metadata": {},
     "output_type": "execute_result"
    },
    {
     "data": {
      "image/png": "[encoded data removed]",
      "text/plain": [
       "<Figure size 2000x600 with 1 Axes>"
      ]
     },
     "metadata": {},
     "output_type": "display_data"
    }
   ],
   "source": [
    "result = sample.groupby('League')\n",
    "fig, ax = plt.subplots(figsize=(20, 6))\n",
    "sns.barplot(x=\"League\", y='xG', data=sample, ax=ax)"
   ]
  },
  {
   "cell_type": "code",
   "execution_count": null,
   "id": "11b712ec",
   "metadata": {},
   "outputs": [],
   "source": []
  }
 ],
 "metadata": {
  "kernelspec": {
   "display_name": "Python 3 (ipykernel)",
   "language": "python",
   "name": "python3"
  },
  "language_info": {
   "codemirror_mode": {
    "name": "ipython",
    "version": 3
   },
   "file_extension": ".py",
   "mimetype": "text/x-python",
   "name": "python",
   "nbconvert_exporter": "python",
   "pygments_lexer": "ipython3",
   "version": "3.9.13"
  }
 },
 "nbformat": 4,
 "nbformat_minor": 5
}
